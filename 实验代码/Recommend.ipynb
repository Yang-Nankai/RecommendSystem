{
 "cells": [
  {
   "cell_type": "markdown",
   "id": "74ccfa44",
   "metadata": {
    "inputHidden": false
   },
   "source": [
    "## Recommend System Homework\n",
    "\n",
    ">Author: YangXin 2011028\n",
    ">\n",
    ">College: Nankai University\n"
   ]
  },
  {
   "cell_type": "markdown",
   "id": "03b0d99d",
   "metadata": {
    "inputHidden": false
   },
   "source": [
    "**A recommendation system, also known as a recommender system**, is a software algorithm or system that suggests items, products, or information to users based on their preferences, interests, or past behavior. The goal of a recommendation system is to provide personalized and relevant recommendations to users, thereby assisting them in discovering new items, enhancing their overall user experience, and increasing engagement and satisfaction.\n",
    "\n",
    "Recommendation systems are commonly found in various online platforms and applications, such as e-commerce websites, streaming services, social media platforms, news websites, and more. These systems analyze vast amounts of data, including user behavior, item characteristics, and historical interactions, to generate recommendations that match users' individual tastes and needs.\n",
    "\n",
    "There are different approaches to building recommendation systems, including:\n",
    "\n",
    "**Content-Based Filtering**: This approach analyzes the characteristics of items, such as their descriptions, genres, or tags, and recommends items with similar attributes to those previously liked or interacted with by the user. For example, if a user has shown interest in science fiction movies, a content-based recommender would suggest other science fiction movies.\n",
    "\n",
    "**Collaborative Filtering**: Collaborative filtering examines the past behavior and preferences of multiple users to identify patterns and make recommendations. It can be divided into two types:\n",
    "\n",
    "**User-based**: This method recommends items based on the preferences of users who have similar tastes to the target user. For instance, if User A and User B have both enjoyed similar movies, the system may suggest movies that User B has liked to User A.\n",
    "\n",
    "**Item-based**: This method recommends items based on their similarity to other items that the user has already liked. If a user enjoys a particular movie, the system will suggest other movies that are similar in terms of genre, actors, or themes.\n",
    "\n",
    "**Hybrid Methods**: These combine multiple recommendation techniques, such as content-based filtering and collaborative filtering, to provide more accurate and diverse recommendations. By leveraging different approaches, hybrid methods aim to overcome the limitations of individual techniques and improve the quality of recommendations.\n",
    "\n",
    "Recommendation systems have become essential tools for enhancing user experience, increasing customer satisfaction, and driving business growth in various industries. They help users navigate the vast amount of available options, discover new items, and save time by presenting them with personalized suggestions tailored to their preferences.\n",
    "\n",
    "**This experiment is based on the product collaborative filtering algorithm to design the recommendation algorithm.**"
   ]
  },
  {
   "cell_type": "markdown",
   "id": "ad6848d7",
   "metadata": {
    "inputHidden": false
   },
   "source": [
    "### Data Analysis\n",
    "\n",
    "The Data Format is:\n",
    "\n",
    "**train.txt**\n",
    "\n",
    "user_id|numbers of rating items\n",
    "\n",
    "item_id   score\n",
    "\n",
    "**test.txt**\n",
    "\n",
    "user_id|numbers of rating items\n",
    "\n",
    "item_id\n",
    "\n",
    "**item.txt**\n",
    "\n",
    "item_id|attribute_1|attribute_2('None' means this item is not belong to any of attribute_1/2)\n"
   ]
  },
  {
   "cell_type": "markdown",
   "id": "2b0d82b1",
   "metadata": {
    "inputHidden": false
   },
   "source": [
    "#### Statistical analysis of the data\n",
    "\n",
    "Now, we use the python to help us to analysis the data.\n",
    "\n",
    "First we need to load the file."
   ]
  },
  {
   "cell_type": "code",
   "execution_count": 1,
   "id": "2a9e9f1b",
   "metadata": {},
   "outputs": [],
   "source": [
    "attr_file_path = './data/itemAttribute.txt'\n",
    "test_file_path = './data/test.txt'\n",
    "train_file_path = './data/train.txt'\n",
    "attr_csvfile_path = './data/attr.csv'\n",
    "train_csvfile_path = './data/train.csv'\n",
    "test_csvfile_path = './data/test.csv'"
   ]
  },
  {
   "cell_type": "code",
   "execution_count": 21,
   "id": "9ce058ec",
   "metadata": {},
   "outputs": [
    {
     "name": "stdout",
     "output_type": "stream",
     "text": [
      "Conversion completed. CSV file generated:  ./data/attr.csv\n"
     ]
    }
   ],
   "source": [
    "#将txt文档以csv的形式存储，方便操作\n",
    "\n",
    "#将itemAttribute转为csv格式\n",
    "import csv\n",
    "\n",
    "with open(attr_file_path, \"r\") as file:\n",
    "    lines = file.readlines()\n",
    "    \n",
    "attr_data = []\n",
    "\n",
    "# 得到最大的item_id\n",
    "max_item_id, _, _ = lines[-1].strip().split(\"|\")\n",
    "\n",
    "# print(max_item_id)\n",
    "\n",
    "for i in range(0, int(max_item_id)+1):\n",
    "    attr_data.append([i, 0, 0])\n",
    "        \n",
    "for line in lines:\n",
    "    item_id, attribute_1, attribute_2 = line.strip().split(\"|\")\n",
    "    if attribute_1 == \"None\":\n",
    "        attribute_1 = 0\n",
    "    if attribute_2 == \"None\":\n",
    "        attribute_2 = 0\n",
    "    attr_data[int(item_id)] = [item_id, attribute_1, attribute_2]\n",
    "\n",
    "file.close()\n",
    "    \n",
    "with open(attr_csvfile_path, \"w\", newline=\"\") as file:\n",
    "    writer = csv.writer(file)\n",
    "    writer.writerow([\"item_id\", \"attribute_1\", \"attribute_2\"])  # Write header\n",
    "    writer.writerows(attr_data)  # Write data rows\n",
    "\n",
    "print(\"Conversion completed. CSV file generated: \", attr_csvfile_path)\n",
    "file.close()"
   ]
  },
  {
   "cell_type": "code",
   "execution_count": 3,
   "id": "3af4ae97",
   "metadata": {},
   "outputs": [
    {
     "name": "stdout",
     "output_type": "stream",
     "text": [
      "Conversion completed. CSV file generated:  ./data/train.csv\n"
     ]
    }
   ],
   "source": [
    "# 将train转为csv的形式 <user_id> <item_id> <rank>\n",
    "with open(train_file_path, \"r\") as file:\n",
    "    lines = file.readlines()\n",
    "    \n",
    "train_data = []\n",
    "\n",
    "for i in range(0, len(lines)):\n",
    "    #对于每个用户处理\n",
    "    if len(lines[i].strip().split(\"|\")) == 2:\n",
    "        user_id, user_rank_count = lines[i].strip().split(\"|\")\n",
    "        user_rank_count = int(user_rank_count)\n",
    "        for j in range(i+1, i+user_rank_count+1):\n",
    "            item_id, rank = lines[j].strip().split()\n",
    "            train_data.append([user_id, item_id, rank])\n",
    "    else:\n",
    "        continue\n",
    "file.close()\n",
    "        \n",
    "with open(train_csvfile_path, \"w\", newline=\"\") as file:\n",
    "    writer = csv.writer(file)\n",
    "    writer.writerow([\"user_id\", \"item_id\", \"rank\"])  # Write header\n",
    "    writer.writerows(train_data)  # Write data rows\n",
    "    \n",
    "print(\"Conversion completed. CSV file generated: \", train_csvfile_path)\n",
    "file.close()"
   ]
  },
  {
   "cell_type": "code",
   "execution_count": 6,
   "id": "03d0d083",
   "metadata": {},
   "outputs": [
    {
     "name": "stdout",
     "output_type": "stream",
     "text": [
      "Conversion completed. CSV file generated:  ./data/test.csv\n"
     ]
    }
   ],
   "source": [
    "# 将train转为csv的形式 <user_id> <item_id> <rank>\n",
    "with open(test_file_path, \"r\") as file:\n",
    "    lines = file.readlines()\n",
    "    \n",
    "test_data = []\n",
    "\n",
    "for i in range(0, len(lines)):\n",
    "    #对于每个用户处理\n",
    "    if len(lines[i].strip().split(\"|\")) == 2:\n",
    "        user_id, user_rank_count = lines[i].strip().split(\"|\")\n",
    "        user_rank_count = int(user_rank_count)\n",
    "        for j in range(i+1, i+user_rank_count+1):\n",
    "            item_id = lines[j].strip()\n",
    "            test_data.append([user_id, item_id, 0])\n",
    "    else:\n",
    "        continue\n",
    "file.close()\n",
    "        \n",
    "with open(test_csv_file_path, \"w\", newline=\"\") as file:\n",
    "    writer = csv.writer(file)\n",
    "    writer.writerow([\"user_id\", \"item_id\", \"rank\"])  # Write header\n",
    "    writer.writerows(test_data)  # Write data rows\n",
    "    \n",
    "print(\"Conversion completed. CSV file generated: \", test_csv_file_path)\n",
    "file.close()"
   ]
  },
  {
   "cell_type": "markdown",
   "id": "09bca12e",
   "metadata": {},
   "source": [
    "#### Perform visual analysis on data\n",
    "\n",
    "Now we can use some tools to visual the data"
   ]
  },
  {
   "cell_type": "code",
   "execution_count": 2,
   "id": "93ed5377",
   "metadata": {},
   "outputs": [],
   "source": [
    "import pandas as pd\n",
    "import numpy as np\n",
    "\n",
    "train_dataset = pd.read_csv(filepath_or_buffer=train_csvfile_path,\n",
    "                              sep=',', header=None, names=['user_id', 'item_id', 'rank'],\n",
    "                              skiprows=1)\n",
    "test_dataset = pd.read_csv(filepath_or_buffer=test_csvfile_path,\n",
    "                              sep=',', header=None, names=['user_id', 'item_id', 'rank'],\n",
    "                              skiprows=1)\n",
    "attr_dataset = pd.read_csv(filepath_or_buffer=attr_csvfile_path,\n",
    "                              sep=',', header=None, names=['item_id', 'attribute_1', 'attribute_2'],\n",
    "                              skiprows=1)\n"
   ]
  },
  {
   "cell_type": "markdown",
   "id": "e9a115b4",
   "metadata": {},
   "source": [
    "We can the the size of the data"
   ]
  },
  {
   "cell_type": "code",
   "execution_count": 4,
   "id": "486e183c",
   "metadata": {},
   "outputs": [
    {
     "data": {
      "text/plain": [
       "(5001507, 3)"
      ]
     },
     "execution_count": 4,
     "metadata": {},
     "output_type": "execute_result"
    }
   ],
   "source": [
    "train_dataset.shape"
   ]
  },
  {
   "cell_type": "code",
   "execution_count": 5,
   "id": "e92bf0fa",
   "metadata": {},
   "outputs": [
    {
     "name": "stdout",
     "output_type": "stream",
     "text": [
      "<class 'pandas.core.frame.DataFrame'>\n",
      "RangeIndex: 5001507 entries, 0 to 5001506\n",
      "Data columns (total 3 columns):\n",
      " #   Column   Dtype\n",
      "---  ------   -----\n",
      " 0   user_id  int64\n",
      " 1   item_id  int64\n",
      " 2   rank     int64\n",
      "dtypes: int64(3)\n",
      "memory usage: 114.5 MB\n"
     ]
    }
   ],
   "source": [
    "train_dataset.info()"
   ]
  },
  {
   "cell_type": "markdown",
   "id": "f9d0643a",
   "metadata": {},
   "source": [
    "Let us see the head of 10 info"
   ]
  },
  {
   "cell_type": "code",
   "execution_count": 6,
   "id": "9881e0b8",
   "metadata": {},
   "outputs": [
    {
     "data": {
      "text/html": [
       "<div>\n",
       "<style scoped>\n",
       "    .dataframe tbody tr th:only-of-type {\n",
       "        vertical-align: middle;\n",
       "    }\n",
       "\n",
       "    .dataframe tbody tr th {\n",
       "        vertical-align: top;\n",
       "    }\n",
       "\n",
       "    .dataframe thead th {\n",
       "        text-align: right;\n",
       "    }\n",
       "</style>\n",
       "<table border=\"1\" class=\"dataframe\">\n",
       "  <thead>\n",
       "    <tr style=\"text-align: right;\">\n",
       "      <th></th>\n",
       "      <th>user_id</th>\n",
       "      <th>item_id</th>\n",
       "      <th>rank</th>\n",
       "    </tr>\n",
       "  </thead>\n",
       "  <tbody>\n",
       "    <tr>\n",
       "      <th>0</th>\n",
       "      <td>0</td>\n",
       "      <td>518385</td>\n",
       "      <td>100</td>\n",
       "    </tr>\n",
       "    <tr>\n",
       "      <th>1</th>\n",
       "      <td>0</td>\n",
       "      <td>550452</td>\n",
       "      <td>90</td>\n",
       "    </tr>\n",
       "    <tr>\n",
       "      <th>2</th>\n",
       "      <td>0</td>\n",
       "      <td>600770</td>\n",
       "      <td>80</td>\n",
       "    </tr>\n",
       "    <tr>\n",
       "      <th>3</th>\n",
       "      <td>0</td>\n",
       "      <td>194044</td>\n",
       "      <td>90</td>\n",
       "    </tr>\n",
       "    <tr>\n",
       "      <th>4</th>\n",
       "      <td>0</td>\n",
       "      <td>295315</td>\n",
       "      <td>90</td>\n",
       "    </tr>\n",
       "    <tr>\n",
       "      <th>5</th>\n",
       "      <td>0</td>\n",
       "      <td>127640</td>\n",
       "      <td>50</td>\n",
       "    </tr>\n",
       "    <tr>\n",
       "      <th>6</th>\n",
       "      <td>0</td>\n",
       "      <td>192496</td>\n",
       "      <td>90</td>\n",
       "    </tr>\n",
       "    <tr>\n",
       "      <th>7</th>\n",
       "      <td>0</td>\n",
       "      <td>531386</td>\n",
       "      <td>80</td>\n",
       "    </tr>\n",
       "    <tr>\n",
       "      <th>8</th>\n",
       "      <td>0</td>\n",
       "      <td>123025</td>\n",
       "      <td>90</td>\n",
       "    </tr>\n",
       "    <tr>\n",
       "      <th>9</th>\n",
       "      <td>0</td>\n",
       "      <td>147073</td>\n",
       "      <td>80</td>\n",
       "    </tr>\n",
       "  </tbody>\n",
       "</table>\n",
       "</div>"
      ],
      "text/plain": [
       "   user_id  item_id  rank\n",
       "0        0   518385   100\n",
       "1        0   550452    90\n",
       "2        0   600770    80\n",
       "3        0   194044    90\n",
       "4        0   295315    90\n",
       "5        0   127640    50\n",
       "6        0   192496    90\n",
       "7        0   531386    80\n",
       "8        0   123025    90\n",
       "9        0   147073    80"
      ]
     },
     "execution_count": 6,
     "metadata": {},
     "output_type": "execute_result"
    }
   ],
   "source": [
    "train_dataset.head(n=10)"
   ]
  },
  {
   "cell_type": "markdown",
   "id": "c6fcc92b",
   "metadata": {},
   "source": [
    "Then we can statist the data, such as the user_num, item_num, avg_rank etc."
   ]
  },
  {
   "cell_type": "code",
   "execution_count": 5,
   "id": "072b145d",
   "metadata": {},
   "outputs": [
    {
     "name": "stdout",
     "output_type": "stream",
     "text": [
      "用户总数:  19835\n",
      "训练集商品总数:  455705\n",
      "商品总数:  507172\n",
      "无属性商品总数:  40846\n",
      "训练集评分总数:  5001507\n",
      "测试集评分总数:  119010\n",
      "训练集评分平均:  49.50458011955197\n",
      "商品属性1的平均:  288394.8737647189\n",
      "商品属性2的平均:  272492.80033203727\n"
     ]
    }
   ],
   "source": [
    "# 得到相关信息\n",
    "\n",
    "unique_user_count = train_dataset['user_id'].nunique()\n",
    "print(\"用户总数: \", unique_user_count)\n",
    "train_item_count = train_dataset['item_id'].nunique()\n",
    "print(\"训练集商品总数: \", train_item_count)\n",
    "unique_item_count = attr_dataset['item_id'].nunique()\n",
    "print(\"商品总数: \", unique_item_count)\n",
    "noattr_item_set = attr_dataset[(attr_dataset['attribute_1']==0) & (attr_dataset['attribute_2']==0)]\n",
    "noattr_item_count = len(noattr_item_set)\n",
    "print(\"无属性商品总数: \", noattr_item_count)\n",
    "train_records_count = len(train_dataset)\n",
    "print(\"训练集评分总数: \", train_records_count)\n",
    "test_records_count = len(test_dataset)\n",
    "print(\"测试集评分总数: \", test_records_count)\n",
    "test_rank_avg = train_dataset['rank'].sum() / train_records_count\n",
    "print(\"训练集评分平均: \", test_rank_avg)\n",
    "attr_item1_avg = attr_dataset['attribute_1'].sum() / unique_item_count\n",
    "attr_item2_avg = attr_dataset['attribute_2'].sum() / unique_item_count\n",
    "print(\"商品属性1的平均: \", attr_item1_avg)\n",
    "print(\"商品属性2的平均: \", attr_item2_avg)\n",
    "\n",
    "with open('./results/data_statistic.txt', 'w') as file:\n",
    "    file.write(\"用户总数: \" + str(unique_user_count) + '\\n')\n",
    "    file.write(\"训练集商品总数: \" + str(train_item_count) + '\\n')\n",
    "    file.write(\"商品总数: \" + str(unique_item_count) + '\\n')\n",
    "    file.write(\"无属性商品总数: \" + str(noattr_item_count) + '\\n')\n",
    "    file.write(\"训练集评分总数: \" + str(train_records_count) + '\\n')\n",
    "    file.write(\"测试集评分总数: \" + str(test_records_count) + '\\n')\n",
    "    file.write(\"训练集评分平均: \" + str(test_rank_avg) + '\\n')\n",
    "    file.write(\"商品属性1的平均: \" + str(attr_item1_avg) + '\\n')\n",
    "    file.write(\"商品属性2的平均: \" + str(attr_item2_avg) + '\\n')\n",
    "file.close()\n"
   ]
  },
  {
   "cell_type": "code",
   "execution_count": 3,
   "id": "e36afdfa",
   "metadata": {},
   "outputs": [
    {
     "data": {
      "image/png": "[encoded data removed]",
      "text/plain": [
       "<Figure size 720x432 with 1 Axes>"
      ]
     },
     "metadata": {
      "needs_background": "light"
     },
     "output_type": "display_data"
    }
   ],
   "source": [
    "import matplotlib.pyplot as plt\n",
    "import matplotlib.ticker as ticker\n",
    "\n",
    "# 统计每个rank值对应的user_id数量\n",
    "rank_counts = train_dataset.groupby('rank')['user_id'].count()\n",
    "\n",
    "#创建图表\n",
    "plt.figure(figsize=(10,6))\n",
    "\n",
    "#绘制柱状图\n",
    "plt.bar(rank_counts.index, rank_counts.values)\n",
    "\n",
    "# 设置图表标题和标签\n",
    "plt.title(\"User Distribution by Rank\")\n",
    "plt.xlabel(\"Rank\")\n",
    "plt.ylabel(\"Number of Users\")\n",
    "\n",
    "# 设置纵轴范围\n",
    "plt.ylim(0, rank_counts.max() + 100000)\n",
    "\n",
    "#显示图表\n",
    "plt.savefig('./img/user_rank_distribution.png')\n",
    "plt.show()\n"
   ]
  },
  {
   "cell_type": "code",
   "execution_count": 26,
   "id": "f4cee4a0",
   "metadata": {},
   "outputs": [
    {
     "name": "stdout",
     "output_type": "stream",
     "text": [
      "\n"
     ]
    },
    {
     "data": {
      "image/png": "[encoded data removed]",
      "text/plain": [
       "<Figure size 720x432 with 1 Axes>"
      ]
     },
     "metadata": {
      "needs_background": "light"
     },
     "output_type": "display_data"
    }
   ],
   "source": [
    "# 计算每个用户的平均评分\n",
    "user_avg_rank = train_dataset.groupby('user_id')['rank'].mean()\n",
    "print()\n",
    "\n",
    "#创建图表\n",
    "plt.figure(figsize=(10,6))\n",
    "\n",
    "#绘制柱状图\n",
    "plt.hist(user_avg_rank, bins=100, range=(0,100), edgecolor='black')\n",
    "\n",
    "# 设置图表标题和标签\n",
    "plt.title(\"Average Rank Distribution\")\n",
    "plt.xlabel(\"Rank\")\n",
    "plt.ylabel(\"Number of Users\")\n",
    "\n",
    "# 显示图表\n",
    "plt.savefig('./img/average_rank_distribution_user.png')\n",
    "plt.show()"
   ]
  },
  {
   "cell_type": "code",
   "execution_count": 27,
   "id": "31e47715",
   "metadata": {},
   "outputs": [
    {
     "name": "stdout",
     "output_type": "stream",
     "text": [
      "\n"
     ]
    },
    {
     "data": {
      "image/png": "[encoded data removed]",
      "text/plain": [
       "<Figure size 720x432 with 1 Axes>"
      ]
     },
     "metadata": {
      "needs_background": "light"
     },
     "output_type": "display_data"
    }
   ],
   "source": [
    "# 计算每个物品的平均评分\n",
    "user_avg_rank = train_dataset.groupby('item_id')['rank'].mean()\n",
    "print()\n",
    "\n",
    "#创建图表\n",
    "plt.figure(figsize=(10,6))\n",
    "\n",
    "#绘制柱状图\n",
    "plt.hist(user_avg_rank, bins=100, range=(0,100), edgecolor='black')\n",
    "\n",
    "# 设置图表标题和标签\n",
    "plt.title(\"Average Rank Distribution\")\n",
    "plt.xlabel(\"Rank\")\n",
    "plt.ylabel(\"Number of items\")\n",
    "\n",
    "# 显示图表\n",
    "plt.savefig('./img/average_rank_distribution_item.png')\n",
    "plt.show()"
   ]
  },
  {
   "cell_type": "markdown",
   "id": "02115af0",
   "metadata": {},
   "source": [
    "### Recommendation Algorithm Based on Item Similarity\n",
    "\n",
    "Select the similarity calculation method to calculate the recommendation result by similarity\n",
    "\n",
    "Here we use the Pearson correlation coefficient to define the similarity.\n",
    "\n",
    "Generally, it indicates the closeness of the relationship between two fixed-distance variables, and the value range is [-1,1]\n",
    "\n",
    "![img](./img/Pearson.png)\n",
    "\n",
    "where Sx,Sy are the sample standard deviations of x and y.\n"
   ]
  },
  {
   "cell_type": "markdown",
   "id": "29e083c8",
   "metadata": {},
   "source": [
    "#### Evaluation Index\n",
    "\n",
    "The user behavior data is randomly divided into M parts according to the uniform distribution, one part is selected as the test set, and the remaining M-1 parts are used as the training set. In order to prevent the evaluation index from being the result of over-fitting, a total of M experiments were carried out, each time using a different test set. Then the average value of the evaluation indexes measured by M experiments is taken as the final evaluation index.\n",
    "\n",
    "1. Recall rate\n",
    "\n",
    "![img](./img/Recall.png)\n",
    "\n",
    "2. Accuracy\n",
    "\n",
    "![img](./img/Accuracy.png)\n",
    "\n",
    "3. Coverage\n",
    "\n",
    "![img](./img/Coverage.png)"
   ]
  },
  {
   "cell_type": "code",
   "execution_count": 4,
   "id": "b37828b3",
   "metadata": {},
   "outputs": [
    {
     "name": "stdout",
     "output_type": "stream",
     "text": [
      "0 518385 100\n",
      "0 550452 90\n",
      "0 600770 80\n",
      "0 194044 90\n",
      "0 295315 90\n",
      "0 127640 50\n",
      "0 192496 90\n",
      "0 531386 80\n",
      "0 123025 90\n",
      "0 147073 80\n",
      "0 137915 90\n",
      "0 497792 90\n"
     ]
    }
   ],
   "source": [
    "for index, row in train_dataset.iterrows():\n",
    "    user_id = row['user_id']\n",
    "    item_id = row['item_id']\n",
    "    rank = row['rank']\n",
    "    print(user_id, item_id, rank)\n",
    "    if index > 10:\n",
    "        break"
   ]
  },
  {
   "cell_type": "code",
   "execution_count": 46,
   "id": "ab9dc78f",
   "metadata": {},
   "outputs": [],
   "source": [
    "import timeit\n",
    "import math\n",
    "from scipy.sparse import coo_matrix, lil_matrix, dok_matrix\n",
    "\n",
    "# 定义基于物品的系统过滤算法\n",
    "\n",
    "class ItemBasedCF():\n",
    "    def __init__(self):\n",
    "        self.n_sim_item = 20 #相似物品数\n",
    "        self.n_rec_item = 10 #推荐物品数\n",
    "        self.train = None #训练集\n",
    "        self.test = None #测试集\n",
    "        self.item_sim_matrix = lil_matrix((624961, 624961), dtype=np.float32) #相似矩阵\n",
    "        self.item_popular = {} #每个物品被评价次数\n",
    "        self.item_count = 0 #物品数\n",
    "        \n",
    "    def get_dataset(self, train_dataset):\n",
    "        self.user_group = train_dataset.groupby('user_id').agg([list])[['item_id', 'rank']]\n",
    "        self.user_ids = train_dataset['user_id'].astype(int)\n",
    "        self.item_ids = train_dataset['item_id'].astype(int)\n",
    "        self.ranks = train_dataset['rank'].astype(int)\n",
    "        self.user_items = train_dataset.groupby('user_id')['item_id'].agg(list)\n",
    "        print('Load dataset success!')\n",
    "\n",
    "    '''\n",
    "    1.  The first step reads each user and the items they have watched in a loop, \n",
    "        and counts the number of times each item has been watched, as well as the \n",
    "        total number of items; \n",
    "    2.  the second step calculates the matrix C, C[i][j] means that you like item \n",
    "        i at the same time and the number of users of j, and consider the penalty for active users; \n",
    "    3.  the third step is to calculate the similarity between items according to the formula Pearson correlation coefficient; \n",
    "    4.  the fourth step is to normalize.\n",
    "    '''\n",
    "    def calc_item_sim(self):\n",
    "        start = timeit.default_timer()\n",
    "        for iid in self.item_ids:\n",
    "            if iid not in self.item_popular:\n",
    "                self.item_popular[iid] = 0\n",
    "            self.item_popular[iid] += 1\n",
    "        self.item_count = len(self.item_popular)\n",
    "        print('item_popular success!')\n",
    "        print(self.item_count)\n",
    "        \n",
    "        for user,items in self.user_items.iteritems():\n",
    "            for i1 in items:\n",
    "                for i2 in items:\n",
    "                    if i1 == i2:\n",
    "                        continue\n",
    "                    self.item_sim_matrix[i1, i2] += 1/math.log(1+len(items))\n",
    "        print('Build co-rated users matrix success!')\n",
    "        \n",
    "        num_rows, num_cols = dok_matrix.shape\n",
    "        for i1 in range(num_rows):\n",
    "            for i2 in range(num_cols):\n",
    "                self.item_sim_matrix[i1][i2] /= math.sqrt(self.item_popular[i1]*self.item_popular[i2])\n",
    "        print('Calculate item similarity matrix success!')\n",
    "        \n",
    "        max_w = 0\n",
    "        for i1 in range(num_rows):\n",
    "            for i2 in range(num_cols):\n",
    "                if max_x > self.item_sim_matrix[i1][i2]:\n",
    "                    max_w = self.item_sim_matrix[i1][i2]\n",
    "        for i1 in range(num_rows):\n",
    "            for i2 in range(num_cols):\n",
    "                if max_x > self.item_sim_matrix[i1][i2] :\n",
    "                    self.item_sim_matrix[i1][i2] = self.item_sim_matrix[i1][i2]/max_w\n",
    "        \n",
    "                self.item_sim_matrix[i1][i2] /= math.sqrt(self.item_popular[i1]*self.item_popular[i2])\n",
    "        end = timeit.default_timer()\n",
    "        all_time = end - start\n",
    "        print('Time cost is : %fs' % all_time)\n",
    "        \n",
    "    #针对目标用户U，找到K个相似的物品，并推荐N个物品，如果用户评价过该物品则不推荐\n",
    "    def recommend(self, user):\n",
    "        K = self.n_sim_item\n",
    "        N = self.n_rec_item\n",
    "        rank = {}\n",
    "        used_items = self.user_items[user]\n",
    "        for item, rating in used_items.items():\n",
    "            for related_item, w in sorted(self.item_sim_matrix[item].items(), key=itemgetter(1), reverse=True)[:K]:\n",
    "                if related_item in used_items:\n",
    "                    continue\n",
    "                rank.setdefault(related_item,0)\n",
    "                rank[related_item] += w*float(rating)\n",
    "        return sorted(rank.items(), key=itemgetter(1),reverse=True)[0:N]\n",
    "    "
   ]
  },
  {
   "cell_type": "code",
   "execution_count": null,
   "id": "35424c32",
   "metadata": {},
   "outputs": [],
   "source": [
    "itemCF = ItemBasedCF()\n",
    "itemCF.get_dataset(train_dataset)\n",
    "itemCF.calc_item_sim()"
   ]
  },
  {
   "cell_type": "code",
   "execution_count": null,
   "id": "e578e321",
   "metadata": {},
   "outputs": [],
   "source": [
    "itemCF.recommend(0)"
   ]
  },
  {
   "cell_type": "markdown",
   "id": "daf39ecb",
   "metadata": {},
   "source": [
    "### Recommendation based on SVD matrix factorization\n",
    "\n",
    "Use matrix decomposition method to get recommendation results quickly and efficiently.\n",
    "\n",
    "Singular Value Decomposition (SVD) is a classic method in matrix decomposition. Next, our recommendation can be calculated by SVD. The basic starting point of SVD is somewhat similar to the hidden semantic model. The matrix is converted into a combination of small matrices."
   ]
  },
  {
   "cell_type": "markdown",
   "id": "a0584708",
   "metadata": {},
   "source": [
    "#### SVD python"
   ]
  },
  {
   "cell_type": "code",
   "execution_count": 15,
   "id": "376eb3b6",
   "metadata": {},
   "outputs": [],
   "source": [
    "import numpy as np\n",
    "import pandas as pd\n",
    "from scipy.io import loadmat\n",
    "from scipy.sparse import coo_matrix\n",
    "import math as mt\n",
    "\n",
    "# 提取用户、物品和评分数据列\n",
    "user_ids = train_dataset['user_id']\n",
    "item_ids = train_dataset['item_id']\n",
    "ranks = train_dataset['rank']\n",
    "\n",
    "dense_matrix = coo_matrix((ranks, (user_ids, item_ids)), dtype=int)"
   ]
  },
  {
   "cell_type": "code",
   "execution_count": 43,
   "id": "1ab2178d",
   "metadata": {},
   "outputs": [],
   "source": [
    "'''\n",
    "BiasSvd Model\n",
    "'''\n",
    "\n",
    "import random\n",
    "\n",
    "class BiasSvd(object):\n",
    "    def __init__(self, alpha, reg_p, reg_q, reg_bu, reg_bi, number_LatentFactors=10, number_epochs=10, columns=[\"user_id\", \"item_id\", \"rank\"]):\n",
    "        self.alpha = alpha # 学习率\n",
    "        self.reg_p = reg_p\n",
    "        self.reg_q = reg_q\n",
    "        self.reg_bu = reg_bu\n",
    "        self.reg_bi = reg_bi\n",
    "        self.number_LatentFactors = number_LatentFactors  # 隐式类别数量\n",
    "        self.number_epochs = number_epochs\n",
    "        self.columns = columns\n",
    "        self.P = None\n",
    "        self.Q = None\n",
    "\n",
    "    def train(self, dataset):\n",
    "        '''\n",
    "        fit dataset\n",
    "        :param dataset: uid, iid, rating\n",
    "        :return:\n",
    "        '''\n",
    "\n",
    "        self.dataset = pd.DataFrame(dataset)\n",
    "        self.users_ratings = dataset.groupby(self.columns[0]).agg([list])[[self.columns[1], self.columns[2]]]\n",
    "        self.items_ratings = dataset.groupby(self.columns[1]).agg([list])[[self.columns[0], self.columns[2]]]\n",
    "        self.globalMean = self.dataset[self.columns[2]].mean()\n",
    "\n",
    "        self.P, self.Q, self.bu, self.bi = self.sgd()\n",
    "\n",
    "    def _init_matrix(self):\n",
    "        '''\n",
    "        初始化P和Q矩阵，同时为设置0，1之间的随机值作为初始值\n",
    "        :return:\n",
    "        '''\n",
    "        # User-LF\n",
    "        P = dict(zip(\n",
    "            self.users_ratings.index,\n",
    "            np.random.rand(len(self.users_ratings), self.number_LatentFactors).astype(np.float32)\n",
    "        ))\n",
    "        # Item-LF\n",
    "        Q = dict(zip(\n",
    "            self.items_ratings.index,\n",
    "            np.random.rand(len(self.items_ratings), self.number_LatentFactors).astype(np.float32)\n",
    "        ))\n",
    "        return P, Q\n",
    "\n",
    "    def sgd(self):\n",
    "        '''\n",
    "        使用随机梯度下降，优化结果\n",
    "        :return:\n",
    "        '''\n",
    "        P, Q = self._init_matrix()\n",
    "\n",
    "        # 初始化bu、bi的值，全部设为0\n",
    "        bu = dict(zip(self.users_ratings.index, np.zeros(len(self.users_ratings))))\n",
    "        bi = dict(zip(self.items_ratings.index, np.zeros(len(self.items_ratings))))\n",
    "\n",
    "        for i in range(self.number_epochs):\n",
    "            print(\"iter %d\"%i)\n",
    "            error_list = []\n",
    "            for uid, iid, r_ui in self.dataset.itertuples(index=False):\n",
    "                v_pu = P[uid]\n",
    "                v_qi = Q[iid]\n",
    "                err = np.float32(r_ui - self.globalMean - bu[uid] - bi[iid] - np.dot(v_pu, v_qi))\n",
    "\n",
    "                v_pu += self.alpha * (err * v_qi - self.reg_p * v_pu)\n",
    "                v_qi += self.alpha * (err * v_pu - self.reg_q * v_qi)\n",
    "\n",
    "                P[uid] = v_pu \n",
    "                Q[iid] = v_qi\n",
    "\n",
    "                bu[uid] += self.alpha * (err - self.reg_bu * bu[uid])\n",
    "                bi[iid] += self.alpha * (err - self.reg_bi * bi[iid])\n",
    "\n",
    "                error_list.append(err ** 2)\n",
    "            self.alpha = self.alpha * 0.93\n",
    "            print(\"mase = \", np.sqrt(np.mean(error_list)))\n",
    "\n",
    "        return P, Q, bu, bi\n",
    "    \n",
    "    def test(self, testset):\n",
    "        predict_rating = []\n",
    "        for uid, iid, real_rating in testset.itertuples(index=False):\n",
    "            try:\n",
    "                pred_rating = self.predict(uid, iid)\n",
    "                predict_rating.append(pred_rating)\n",
    "            except Exception as e:\n",
    "                print(e)\n",
    "        result = pd.DataFrame()\n",
    "        result['user_id'] = testset['user_id']\n",
    "        result['item_id'] = testset['item_id']\n",
    "        result['pred'] = predict_rating\n",
    "        result.to_csv('./data/result.csv', index=False)\n",
    "        print(\"Save success!\")\n",
    "        \n",
    "    def predict(self, uid, iid):\n",
    "\n",
    "        if uid not in self.users_ratings.index or iid not in self.items_ratings.index:\n",
    "            return self.globalMean\n",
    "\n",
    "        p_u = self.P[uid]\n",
    "        q_i = self.Q[iid]\n",
    "\n",
    "        return self.globalMean + self.bu[uid] + self.bi[iid] + np.dot(p_u, q_i)"
   ]
  },
  {
   "cell_type": "code",
   "execution_count": 44,
   "id": "eb973a9c",
   "metadata": {},
   "outputs": [
    {
     "name": "stdout",
     "output_type": "stream",
     "text": [
      "iter 0\n",
      "mase =  32.10766784944526\n",
      "iter 1\n",
      "mase =  29.69801617823612\n",
      "iter 2\n",
      "mase =  28.72866577628515\n",
      "iter 3\n",
      "mase =  27.959111838264153\n",
      "iter 4\n",
      "mase =  27.1676448112239\n",
      "iter 5\n",
      "mase =  26.37683802305748\n",
      "iter 6\n",
      "mase =  25.65586989376498\n",
      "iter 7\n",
      "mase =  25.03053932398113\n",
      "iter 8\n",
      "mase =  24.49442479975343\n",
      "iter 9\n",
      "mase =  24.03483533582335\n",
      "iter 10\n",
      "mase =  23.64022180469128\n",
      "iter 11\n",
      "mase =  23.300475487507324\n",
      "iter 12\n",
      "mase =  23.006738603494036\n",
      "iter 13\n",
      "mase =  22.75142456728126\n",
      "iter 14\n",
      "mase =  22.52822339375017\n",
      "iter 15\n",
      "mase =  22.33198700807679\n",
      "iter 16\n",
      "mase =  22.158541093335817\n",
      "iter 17\n",
      "mase =  22.004494440849975\n",
      "iter 18\n",
      "mase =  21.867076603595656\n",
      "iter 19\n",
      "mase =  21.744008274947202\n",
      "iter 20\n",
      "mase =  21.63340030999597\n",
      "iter 21\n",
      "mase =  21.53367495090605\n",
      "iter 22\n",
      "mase =  21.443504972995658\n",
      "iter 23\n",
      "mase =  21.361765812767207\n",
      "iter 24\n",
      "mase =  21.287498490909154\n",
      "iter 25\n",
      "mase =  21.21987992831098\n",
      "iter 26\n",
      "mase =  21.158199738048967\n",
      "iter 27\n",
      "mase =  21.101841261105903\n",
      "iter 28\n",
      "mase =  21.05026663921421\n",
      "iter 29\n",
      "mase =  21.003004521086147\n"
     ]
    }
   ],
   "source": [
    "bsvd = BiasSvd(0.0003, 0.00001, 0.00001, 0.01, 0.01, 10, 30)\n",
    "bsvd.train(train_dataset)"
   ]
  },
  {
   "cell_type": "code",
   "execution_count": 45,
   "id": "16adf6f7",
   "metadata": {},
   "outputs": [
    {
     "name": "stdout",
     "output_type": "stream",
     "text": [
      "Save success!\n"
     ]
    }
   ],
   "source": [
    "bsvd.test(test_dataset)"
   ]
  },
  {
   "cell_type": "code",
   "execution_count": 19,
   "id": "81957c9e",
   "metadata": {},
   "outputs": [],
   "source": [
    "while True:\n",
    "    uid = input(\"uid: \")\n",
    "    iid = input(\"iid: \")\n",
    "    print(bsvd.predict(int(uid), int(iid)))"
   ]
  },
  {
   "cell_type": "markdown",
   "id": "28fdc094",
   "metadata": {},
   "source": [
    "#### 基于内容的推荐算法"
   ]
  },
  {
   "cell_type": "code",
   "execution_count": 42,
   "id": "3245e64f",
   "metadata": {},
   "outputs": [],
   "source": [
    "# 包含所有物品平均分的字典grouped_data\n",
    "def get_avg():\n",
    "    '''\n",
    "    获得平均分\n",
    "    '''\n",
    "    avg_data = train_dataset.groupby('item_id')['rank'].mean()\n",
    "    return avg_data\n",
    "\n",
    "# 得到存储所有物品种类的字典item_cast\n",
    "def get_item_cast():\n",
    "    '''\n",
    "    得到所有种类\n",
    "    '''\n",
    "    attribute_1_values = attr_dataset['attribute_1'].unique().tolist()\n",
    "    attribute_2_values = attr_dataset['attribute_2'].unique().tolist()\n",
    "    # 合并两个列表并去重\n",
    "    item_cast = list(set(attribute_1_values + attribute_2_values))\n",
    "    return item_cast\n",
    "\n",
    "# 得到所有种类下排名前100的物品列表\n",
    "def get_item_sort(avg_data, item_cast):\n",
    "    '''\n",
    "    得到种类前100\n",
    "    '''\n",
    "    item_sort = {}\n",
    "    merged_data = pd.merge(avg_data, attr_dataset, on='item_id')\n",
    "    for attribute in item_cast:\n",
    "        item_sort[attribute] = []\n",
    "        if int(attribute) != 0:\n",
    "            # 筛选出该种类的物品，并按照平均分进行降序排序)\n",
    "            item_sort[attribute].append(merged_data[merged_data['attribute_1'] == attribute].sort_values(by='rank', ascending=False)['item_id'])\n",
    "            item_sort[attribute].append(merged_data[merged_data['attribute_2'] == attribute].sort_values(by='rank', ascending=False)['item_id'])\n",
    "    return item_sort\n",
    "\n",
    "# 得到用户的偏好\n",
    "def get_user_like():\n",
    "    '''\n",
    "    得到用户最喜欢的几个种类\n",
    "    '''\n",
    "    user_like = {}\n",
    "    user_items = train_dataset.groupby('user_id')['item_id'].agg(list)\n",
    "    user_ratings = train_dataset.groupby('user_id')['rank'].agg(list)\n",
    "    user_count = len(user_items)\n",
    "    for uid in range(0, user_count):\n",
    "        user_like[uid] = {}\n",
    "        index = 0\n",
    "        if uid % 1000 == 0:\n",
    "            print(uid)\n",
    "        for iid in user_items[uid]:\n",
    "            #找到物品属于的种类\n",
    "            attr = attr_dataset.iloc[iid][1:].tolist()\n",
    "            for a in attr:\n",
    "                if a not in user_like[uid]:\n",
    "                    # print(uid, iid)\n",
    "                    user_like[uid][a] = 0\n",
    "                user_like[uid][a] += user_ratings[uid][index] * 0.5\n",
    "            index += 1\n",
    "    return user_like\n",
    "    \n",
    "#对用户进行推荐           \n",
    "def recom(user_like, user_id, item_sort):\n",
    "    topk = 2\n",
    "    # 对用户喜欢的属性进行排序\n",
    "    for uid in user_id:\n",
    "        sorted_keys = sorted(user_like[uid], key=user_like[uid].get, reverse=True)\n",
    "        key = 0\n",
    "        if len(sorted_keys) != 0:\n",
    "            if sorted_keys[0] == 0:\n",
    "                if len(sorted_keys) > 1:\n",
    "                    key = sorted_keys[1]\n",
    "                    print(\"该用户最喜欢种类\", sorted_keys[1])\n",
    "                else:\n",
    "                    key = sorted_keys[0]\n",
    "                    print(\"该用户最喜欢种类\", sorted_keys[0])\n",
    "            else:\n",
    "                key = sorted_keys[0]\n",
    "                print(\"该用户最喜欢种类\", sorted_keys[0])\n",
    "            #然后对其开始推荐\n",
    "            print(\"为用户\", uid, \"进行推荐: \")\n",
    "            \n",
    "            for i in range(topk):\n",
    "                if i in item_sort[key][0]:\n",
    "                    print(item_sort[key][0][i])\n",
    "                elif i in item_sort[key][1]:\n",
    "                    print(item_sort[key][1][i])\n",
    "                else:\n",
    "                    print(\"无法推荐\")\n",
    "        else:\n",
    "            print(\"无法推荐!\")"
   ]
  },
  {
   "cell_type": "code",
   "execution_count": 43,
   "id": "16aafd8f",
   "metadata": {},
   "outputs": [],
   "source": [
    "avg_data = get_avg()\n",
    "item_cast = get_item_cast()\n",
    "item_sort = get_item_sort(avg_data, item_cast)"
   ]
  },
  {
   "cell_type": "code",
   "execution_count": null,
   "id": "0e6ec98f",
   "metadata": {},
   "outputs": [
    {
     "name": "stdout",
     "output_type": "stream",
     "text": [
      "0\n",
      "1000\n",
      "2000\n",
      "3000\n"
     ]
    }
   ],
   "source": [
    "# print(item_sort[587636][1])\n",
    "user_like = get_user_like()"
   ]
  },
  {
   "cell_type": "code",
   "execution_count": null,
   "id": "e27929af",
   "metadata": {},
   "outputs": [],
   "source": [
    "user_id = [0, 56, 89, 1234, 12345]\n",
    "recom(user_like, user_id, item_sort)"
   ]
  },
  {
   "cell_type": "code",
   "execution_count": 14,
   "id": "1930cc26",
   "metadata": {},
   "outputs": [
    {
     "data": {
      "image/png": "[encoded data removed]",
      "text/plain": [
       "<Figure size 432x288 with 1 Axes>"
      ]
     },
     "metadata": {
      "needs_background": "light"
     },
     "output_type": "display_data"
    },
    {
     "data": {
      "text/plain": [
       "<Figure size 432x288 with 0 Axes>"
      ]
     },
     "metadata": {},
     "output_type": "display_data"
    }
   ],
   "source": [
    "import matplotlib.pyplot as plt\n",
    "mase = [32.10260995493488, 29.725567256047764, 28.7864705812477, 28.011844350993925, 27.193525377158974, 26.379731773963556, 25.650278448901272, 25.021375007767077, 24.48363467761111, 24.02486683180316, 23.633133534455137, 23.29714708763214, 23.007110918351366, 22.75498259128623, 22.534314426821606, 22.339983041181906, 22.167908502171663, 22.014811561994893, 21.87802589518514, 21.755358580649315, 21.644987700678854, 21.545385733629214, 21.455261948245944, 21.373517841453353, 21.29921270214835, 21.231536168979012, 21.1697865294105, 21.113353028532458, 21.06170175894698, 21.014363884290702]\n",
    "# 绘制 MSE 随迭代次数变化的折线图\n",
    "plt.plot(range(1, len(mase) + 1), mase)\n",
    "plt.xlabel('Iteration')\n",
    "plt.ylabel('MASE')\n",
    "plt.title('MASE Iteration')\n",
    "plt.show()\n",
    "plt.savefig('./img/MASE.png')"
   ]
  },
  {
   "cell_type": "code",
   "execution_count": 9,
   "id": "7cc257d9",
   "metadata": {},
   "outputs": [
    {
     "name": "stdout",
     "output_type": "stream",
     "text": [
      "Save result.txt success!\n"
     ]
    }
   ],
   "source": [
    "### 将result.csv转为txt文件存储\n",
    "reulst_csvfile_path = './data/result.csv'\n",
    "result_dataset = pd.read_csv(filepath_or_buffer=reulst_csvfile_path,\n",
    "                              sep=',', header=None, names=['user_id', 'item_id', 'pred'],\n",
    "                              skiprows=1)\n",
    "#首先进行用户id分类\n",
    "user_items = result_dataset.groupby('user_id')['item_id'].agg(list)\n",
    "user_ranks = result_dataset.groupby('user_id')['pred'].agg(list)\n",
    "\n",
    "user_count = len(user_items)\n",
    "with open('./data/result.txt', 'w') as f:\n",
    "    for i in range(0, user_count):\n",
    "        mystr = str(i) + \"|\" + str(len(user_items[i])) + \"\\n\"\n",
    "        f.write(mystr)\n",
    "        for j in range(len(user_items[i])):\n",
    "            formatted_num = \"{:.2f}\".format(user_ranks[i][j])\n",
    "            mystr = str(user_items[i][j]) + \"  \" + str(formatted_num) + \"\\n\"\n",
    "            f.write(mystr)\n",
    "\n",
    "f.close()\n",
    "print(\"Save result.txt success!\")\n",
    "    "
   ]
  }
 ],
 "metadata": {
  "kernelspec": {
   "display_name": "Python 3",
   "language": "python",
   "name": "python3"
  },
  "language_info": {
   "codemirror_mode": {
    "name": "ipython",
    "version": 3
   },
   "file_extension": ".py",
   "mimetype": "text/x-python",
   "name": "python",
   "nbconvert_exporter": "python",
   "pygments_lexer": "ipython3",
   "version": "3.7.5"
  }
 },
 "nbformat": 4,
 "nbformat_minor": 5
}
